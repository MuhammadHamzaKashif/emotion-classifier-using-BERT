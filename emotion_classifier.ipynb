{
 "cells": [
  {
   "cell_type": "code",
   "execution_count": 1,
   "metadata": {
    "colab": {
     "base_uri": "https://localhost:8080/"
    },
    "id": "0CSWMFJkwS4H",
    "outputId": "9d19891a-23aa-44c9-df08-d5add1e66450"
   },
   "outputs": [
    {
     "name": "stdout",
     "output_type": "stream",
     "text": [
      "\u001b[2K   \u001b[90m━━━━━━━━━━━━━━━━━━━━━━━━━━━━━━━━━━━━━━━━\u001b[0m \u001b[32m84.1/84.1 kB\u001b[0m \u001b[31m4.7 MB/s\u001b[0m eta \u001b[36m0:00:00\u001b[0m\n",
      "\u001b[2K   \u001b[90m━━━━━━━━━━━━━━━━━━━━━━━━━━━━━━━━━━━━━━━━\u001b[0m \u001b[32m363.4/363.4 MB\u001b[0m \u001b[31m3.8 MB/s\u001b[0m eta \u001b[36m0:00:00\u001b[0m\n",
      "\u001b[2K   \u001b[90m━━━━━━━━━━━━━━━━━━━━━━━━━━━━━━━━━━━━━━━━\u001b[0m \u001b[32m13.8/13.8 MB\u001b[0m \u001b[31m90.5 MB/s\u001b[0m eta \u001b[36m0:00:00\u001b[0m\n",
      "\u001b[2K   \u001b[90m━━━━━━━━━━━━━━━━━━━━━━━━━━━━━━━━━━━━━━━━\u001b[0m \u001b[32m24.6/24.6 MB\u001b[0m \u001b[31m69.7 MB/s\u001b[0m eta \u001b[36m0:00:00\u001b[0m\n",
      "\u001b[2K   \u001b[90m━━━━━━━━━━━━━━━━━━━━━━━━━━━━━━━━━━━━━━━━\u001b[0m \u001b[32m883.7/883.7 kB\u001b[0m \u001b[31m49.3 MB/s\u001b[0m eta \u001b[36m0:00:00\u001b[0m\n",
      "\u001b[2K   \u001b[90m━━━━━━━━━━━━━━━━━━━━━━━━━━━━━━━━━━━━━━━━\u001b[0m \u001b[32m664.8/664.8 MB\u001b[0m \u001b[31m2.1 MB/s\u001b[0m eta \u001b[36m0:00:00\u001b[0m\n",
      "\u001b[2K   \u001b[90m━━━━━━━━━━━━━━━━━━━━━━━━━━━━━━━━━━━━━━━━\u001b[0m \u001b[32m211.5/211.5 MB\u001b[0m \u001b[31m6.2 MB/s\u001b[0m eta \u001b[36m0:00:00\u001b[0m\n",
      "\u001b[2K   \u001b[90m━━━━━━━━━━━━━━━━━━━━━━━━━━━━━━━━━━━━━━━━\u001b[0m \u001b[32m56.3/56.3 MB\u001b[0m \u001b[31m16.7 MB/s\u001b[0m eta \u001b[36m0:00:00\u001b[0m\n",
      "\u001b[2K   \u001b[90m━━━━━━━━━━━━━━━━━━━━━━━━━━━━━━━━━━━━━━━━\u001b[0m \u001b[32m127.9/127.9 MB\u001b[0m \u001b[31m8.3 MB/s\u001b[0m eta \u001b[36m0:00:00\u001b[0m\n",
      "\u001b[2K   \u001b[90m━━━━━━━━━━━━━━━━━━━━━━━━━━━━━━━━━━━━━━━━\u001b[0m \u001b[32m207.5/207.5 MB\u001b[0m \u001b[31m5.3 MB/s\u001b[0m eta \u001b[36m0:00:00\u001b[0m\n",
      "\u001b[2K   \u001b[90m━━━━━━━━━━━━━━━━━━━━━━━━━━━━━━━━━━━━━━━━\u001b[0m \u001b[32m188.7/188.7 MB\u001b[0m \u001b[31m6.3 MB/s\u001b[0m eta \u001b[36m0:00:00\u001b[0m\n",
      "\u001b[2K   \u001b[90m━━━━━━━━━━━━━━━━━━━━━━━━━━━━━━━━━━━━━━━━\u001b[0m \u001b[32m21.1/21.1 MB\u001b[0m \u001b[31m76.3 MB/s\u001b[0m eta \u001b[36m0:00:00\u001b[0m\n",
      "\u001b[?25h"
     ]
    }
   ],
   "source": [
    "!pip install transformers datasets evaluate accelerate torch -q"
   ]
  },
  {
   "cell_type": "code",
   "execution_count": 27,
   "metadata": {
    "id": "HsGZ_dGuwnd3"
   },
   "outputs": [],
   "source": [
    "from datasets import load_dataset\n",
    "from transformers import AutoTokenizer, AutoModelForSequenceClassification, Trainer, TrainingArguments, pipeline\n",
    "import numpy as np\n",
    "from sklearn.metrics import classification_report, accuracy_score, f1_score"
   ]
  },
  {
   "cell_type": "code",
   "execution_count": 3,
   "metadata": {
    "colab": {
     "base_uri": "https://localhost:8080/",
     "height": 365,
     "referenced_widgets": [
      "1d52893ad9ac46e5968f1dd37fd5d75b",
      "ecba94bc4bdd4b81b25a619d3a78d356",
      "373b42764fa44a31af78d99a2aa57d0b",
      "722d3fb86d1e45bcab4a38e5d56b6afe",
      "630f116776fe45738da425154e65ba5f",
      "34b1971ecc49420893ac5a0c276817dc",
      "9f96b36b612d4323be0f414f1468d1e1",
      "8aa615621b24423388e32e33484c5093",
      "120d3ce0c49844aaa0757c853805771b",
      "0b22da9da99448efb9dbc12c496f1034",
      "1e5ab3fa3fef481dbe264bf3a872e056",
      "7b869663da6f43cfa5f9e1c01ec114ac",
      "42637a942cf544c98794ab47e65e3fdd",
      "46fe8dfead0e4cf59497b0272ad5851e",
      "128f44608d7b4fcc8f8198ec27a11ab4",
      "477c5b4c2cc44590b5178275eb3a337e",
      "7134af31abd44fe6b899168fbc5ee678",
      "5ca2589b6b2a4e64ac99bf7f9b0181b4",
      "2a54ed1433e74706aab5562a54ea739f",
      "781b141ef7ea49929a7603842fcd8c5b",
      "16e38b709827444eae85bb3c24fc06f7",
      "60b0c40bbec647809d699b24d44550b5",
      "6bea92f4f3e145cc82b70a8bc9537b71",
      "c374d55b7da44651b46aeee610ef398f",
      "b29999802b2d4c55836839dac6e380ee",
      "1eaba00dc64a4ec2860f939d7d94e23d",
      "a968c29d6aa24976a32ea6c15884c9eb",
      "e536801f61f84ea6ae87b73a88b7ddf1",
      "71d97880c9ea45d59ca6293a853397f7",
      "2a0d5458e7ce47acb38ea608c2936fb7",
      "28c613c2037740de827f5b49e1e34edb",
      "b0372411430c43c7b655f3bf86c059c8",
      "377cb2974cf64da09e75aeec60a80cb2",
      "f8f4e2ba3a25413f9fc5f4a632a81212",
      "c14bc56e2e634454bb7372b1175aa80d",
      "718406422ad242dab3cbca5f72c4f6b6",
      "dc7e4c2914a2417a8b6c15ab141697ab",
      "4a332005e92745999697be28686bb6ad",
      "fdc23237fab1440993848e3222dc622c",
      "70dbe1c10f754617b0935ad072b016df",
      "4eb0552d853c426ca659cfd3dba2f09b",
      "8b107f0016484a7d8bb36c66a0841e53",
      "e1a1ead5d79a49f2b2670af8f8829050",
      "77761e19ab2343bc8ffc46ea310f2881",
      "98e5734ea78043939466ecc57d0d485b",
      "0760438d168e49579504be8329c7409d",
      "24c3daaeada341c0b7be78939fc42796",
      "b958b9204f7845b3972d81f4c1a141ab",
      "8d96922ae9d74a59a920f0438ca7565c",
      "6f9783367f5b4a0da0ac28c817c7a807",
      "eb8a50051aac41b8aab586bc3c07ed2b",
      "050663ad765a4a5c80452584158f98be",
      "89c33bb873534da0a0d3aa25ca981202",
      "b0c6aaff8e8a44b78479485c9c865ab9",
      "cd8716a7ed854702a03ad30222f79687",
      "6234dd7d4d5043abbe90648a938fc2cb",
      "f17b306b1acd491ab48e383225049eb2",
      "24be0b302e124e42829c4a4ba45f8a16",
      "e5b1e0a15ff3418eb444cd7c2979e12a",
      "f315c160ce004d079b3408cacf8edb87",
      "6e0f9736c52641c1b7732b791368547b",
      "d7b504069b134d2eb7616b83c726f426",
      "9b6c685c810e46d08b1efbd8c985cfe2",
      "7f4ea98e88dd4dc987a43b85d5a933ff",
      "1cb3883515b1437c9edbcd50e2777744",
      "d3f93a02e3bc49238d7af1d529f932bc",
      "b4953daa799149ed89676ed39bdd5bfc",
      "1afab9c4e1df4b9d83cc9a0b24305f9d",
      "51304ab4ca8c4711a1327d040d14530a",
      "f37287e04f0e4983a194e528948bf35c",
      "8b010807427145ab81d47b0ae7f38d22",
      "5f2045a80090484384504896ca3ec632",
      "e4fb0b4712ba4ca8996fe83cff5b73f7",
      "604cc5ba74a54e2aa9f281198c192d16",
      "e5e64b4e73d04b6ba20f3a48b24344ec",
      "b30fa015b4f44195b8539305ad9c2d81",
      "02079d535151429087626e54d5decb80"
     ]
    },
    "id": "Ic-VxyPXxrsc",
    "outputId": "65b2563d-4e60-4b71-9bcd-15d3a7b64e04"
   },
   "outputs": [
    {
     "name": "stderr",
     "output_type": "stream",
     "text": [
      "/usr/local/lib/python3.11/dist-packages/huggingface_hub/utils/_auth.py:94: UserWarning: \n",
      "The secret `HF_TOKEN` does not exist in your Colab secrets.\n",
      "To authenticate with the Hugging Face Hub, create a token in your settings tab (https://huggingface.co/settings/tokens), set it as secret in your Google Colab and restart your session.\n",
      "You will be able to reuse this secret in all of your notebooks.\n",
      "Please note that authentication is recommended but still optional to access public models or datasets.\n",
      "  warnings.warn(\n"
     ]
    },
    {
     "data": {
      "application/vnd.jupyter.widget-view+json": {
       "model_id": "1d52893ad9ac46e5968f1dd37fd5d75b",
       "version_major": 2,
       "version_minor": 0
      },
      "text/plain": [
       "README.md: 0.00B [00:00, ?B/s]"
      ]
     },
     "metadata": {},
     "output_type": "display_data"
    },
    {
     "data": {
      "application/vnd.jupyter.widget-view+json": {
       "model_id": "7b869663da6f43cfa5f9e1c01ec114ac",
       "version_major": 2,
       "version_minor": 0
      },
      "text/plain": [
       "train-00000-of-00001.parquet:   0%|          | 0.00/1.03M [00:00<?, ?B/s]"
      ]
     },
     "metadata": {},
     "output_type": "display_data"
    },
    {
     "data": {
      "application/vnd.jupyter.widget-view+json": {
       "model_id": "6bea92f4f3e145cc82b70a8bc9537b71",
       "version_major": 2,
       "version_minor": 0
      },
      "text/plain": [
       "validation-00000-of-00001.parquet:   0%|          | 0.00/127k [00:00<?, ?B/s]"
      ]
     },
     "metadata": {},
     "output_type": "display_data"
    },
    {
     "data": {
      "application/vnd.jupyter.widget-view+json": {
       "model_id": "f8f4e2ba3a25413f9fc5f4a632a81212",
       "version_major": 2,
       "version_minor": 0
      },
      "text/plain": [
       "test-00000-of-00001.parquet:   0%|          | 0.00/129k [00:00<?, ?B/s]"
      ]
     },
     "metadata": {},
     "output_type": "display_data"
    },
    {
     "data": {
      "application/vnd.jupyter.widget-view+json": {
       "model_id": "98e5734ea78043939466ecc57d0d485b",
       "version_major": 2,
       "version_minor": 0
      },
      "text/plain": [
       "Generating train split:   0%|          | 0/16000 [00:00<?, ? examples/s]"
      ]
     },
     "metadata": {},
     "output_type": "display_data"
    },
    {
     "data": {
      "application/vnd.jupyter.widget-view+json": {
       "model_id": "6234dd7d4d5043abbe90648a938fc2cb",
       "version_major": 2,
       "version_minor": 0
      },
      "text/plain": [
       "Generating validation split:   0%|          | 0/2000 [00:00<?, ? examples/s]"
      ]
     },
     "metadata": {},
     "output_type": "display_data"
    },
    {
     "data": {
      "application/vnd.jupyter.widget-view+json": {
       "model_id": "b4953daa799149ed89676ed39bdd5bfc",
       "version_major": 2,
       "version_minor": 0
      },
      "text/plain": [
       "Generating test split:   0%|          | 0/2000 [00:00<?, ? examples/s]"
      ]
     },
     "metadata": {},
     "output_type": "display_data"
    }
   ],
   "source": [
    "dataset = load_dataset(\"dair-ai/emotion\")"
   ]
  },
  {
   "cell_type": "code",
   "execution_count": 5,
   "metadata": {
    "colab": {
     "base_uri": "https://localhost:8080/"
    },
    "id": "XZMxDngox5xK",
    "outputId": "8a40757b-b506-4f69-95a6-21753a5a985b"
   },
   "outputs": [
    {
     "data": {
      "text/plain": [
       "{'text': ['i didnt feel humiliated',\n",
       "  'i can go from feeling so hopeless to so damned hopeful just from being around someone who cares and is awake',\n",
       "  'im grabbing a minute to post i feel greedy wrong',\n",
       "  'i am ever feeling nostalgic about the fireplace i will know that it is still on the property',\n",
       "  'i am feeling grouchy'],\n",
       " 'label': [0, 0, 3, 2, 3]}"
      ]
     },
     "execution_count": 5,
     "metadata": {},
     "output_type": "execute_result"
    }
   ],
   "source": [
    "dataset['train'][0:5]"
   ]
  },
  {
   "cell_type": "code",
   "execution_count": 6,
   "metadata": {
    "colab": {
     "base_uri": "https://localhost:8080/"
    },
    "id": "yA8JIoUjx9K-",
    "outputId": "c3a863b9-d8a6-4882-b5dc-0a5a72c5c02a"
   },
   "outputs": [
    {
     "data": {
      "text/plain": [
       "['sadness', 'joy', 'love', 'anger', 'fear', 'surprise']"
      ]
     },
     "execution_count": 6,
     "metadata": {},
     "output_type": "execute_result"
    }
   ],
   "source": [
    "dataset['train'].features['label'].names"
   ]
  },
  {
   "cell_type": "code",
   "execution_count": 7,
   "metadata": {
    "colab": {
     "base_uri": "https://localhost:8080/",
     "height": 232,
     "referenced_widgets": [
      "28c231fb55b7429380adca12499d450e",
      "ea929e4b32fd457c8934f05d74a9af18",
      "6a110e1052444f90a42ad39ee5f79ffc",
      "d56f2f34f2084f77a4939e7ff1c565ad",
      "7628c75ebe8a4a98a896c3178cc30b43",
      "ceb99894a1a3444789fa44ca1686db40",
      "dfcf331da81e461a90b2249a8de08f80",
      "c101062daffa4fbeac2e8e740f7cd383",
      "6f6d8164d13e44018a31ed78c2459731",
      "ac0d8ba94460424b807a9fce56e806bb",
      "155a8a658dfa4ec8aa0513612c34cd1c",
      "c236c07a187f4339a92ffbe4632f4b4d",
      "e5e27bbd479944dca56276bb250b8de1",
      "6846a725aa2c4fe6a822de068f5cd003",
      "5e345137556049b7a1343e30f443c659",
      "ee3d36e6d2a24b85b1bb2addd619368e",
      "feac90e260bf45a28a8c25e8db2d3917",
      "a823c022b4a948739f8b7cf16cae1f3c",
      "274e84d229d94051a99efbd92f5f7cb3",
      "8d6f83d4295a4327b7cbfdc4af251e27",
      "fbf85e71f4ba4281afe7edfcb6599ba5",
      "3cd19f185b11480ebeb7269c6d86baaf",
      "588002ff6c9d4f1e8bf695c83558575b",
      "022540149df44a2a8f280e232246b73d",
      "2fcd2d9597224c2bbb849094dd8099c6",
      "5d6314b272d34e01870dd023a163620e",
      "a3e6c8c8165f449c89e881a531f5d979",
      "424567f26ec04b07ad9b5c6d784d78a1",
      "1dd925559fb44074afda42c2554fb319",
      "017db4197f0b49e6a73920df67194daa",
      "a47b6164a94c4a069f685027a824dae6",
      "08c6a9b3de1845a8a8f80bee0d5d1c25",
      "63a0dfc1e58f4f21aafaf285423e7867",
      "582062fbf9fb4f7ab2c5fdc8b9bea5dd",
      "7264e60a3112464f977e5b747c7b6bc8",
      "70f35683a24a4e30a0c422544a871299",
      "cde849a41f724db2a661bf9ba81b020a",
      "0d8f2b191451452b9c398b7b3c752709",
      "680916b2f93147ebb2a3447a60055905",
      "470c20497a0d4e4ca91e2336ac5dda12",
      "93daf1e5257e4e9091b7b5ff00d1243b",
      "89fec7b312344bdca5a74381a6c939e0",
      "4b1a3c2a9aa14e92b53cb94bd2c3ae00",
      "d1c47b16105c4b5ead2199706bf5181c",
      "06adf54947c84ad18f80b42f5258fb5e",
      "e8778caabf01404c9c1bf279bbae4185",
      "ec47959e90dd4d1f8509122fea1ff300",
      "707d2f8ac15544f0b55985e98c1548aa",
      "9a67ad7d24154a4290e19bc79c36fdcd",
      "3347eb4693d04c77bc4c3805f4a56fc5",
      "0e3038610efd4700a6a3fb7b3fc04722",
      "f7972448433749b8a6e519cc0a82450b",
      "18ed2a211ec64dc1a315262276a8ca5f",
      "eec43dd3901b4efd84b118718179b844",
      "1819897d969d4c6385fc2193e7109d1d"
     ]
    },
    "id": "ilhcVlIfx_cj",
    "outputId": "c131041f-9483-43af-b3e0-0d3ace2a7837"
   },
   "outputs": [
    {
     "data": {
      "application/vnd.jupyter.widget-view+json": {
       "model_id": "28c231fb55b7429380adca12499d450e",
       "version_major": 2,
       "version_minor": 0
      },
      "text/plain": [
       "tokenizer_config.json:   0%|          | 0.00/48.0 [00:00<?, ?B/s]"
      ]
     },
     "metadata": {},
     "output_type": "display_data"
    },
    {
     "data": {
      "application/vnd.jupyter.widget-view+json": {
       "model_id": "c236c07a187f4339a92ffbe4632f4b4d",
       "version_major": 2,
       "version_minor": 0
      },
      "text/plain": [
       "config.json:   0%|          | 0.00/483 [00:00<?, ?B/s]"
      ]
     },
     "metadata": {},
     "output_type": "display_data"
    },
    {
     "data": {
      "application/vnd.jupyter.widget-view+json": {
       "model_id": "588002ff6c9d4f1e8bf695c83558575b",
       "version_major": 2,
       "version_minor": 0
      },
      "text/plain": [
       "vocab.txt:   0%|          | 0.00/232k [00:00<?, ?B/s]"
      ]
     },
     "metadata": {},
     "output_type": "display_data"
    },
    {
     "data": {
      "application/vnd.jupyter.widget-view+json": {
       "model_id": "582062fbf9fb4f7ab2c5fdc8b9bea5dd",
       "version_major": 2,
       "version_minor": 0
      },
      "text/plain": [
       "tokenizer.json:   0%|          | 0.00/466k [00:00<?, ?B/s]"
      ]
     },
     "metadata": {},
     "output_type": "display_data"
    },
    {
     "data": {
      "application/vnd.jupyter.widget-view+json": {
       "model_id": "06adf54947c84ad18f80b42f5258fb5e",
       "version_major": 2,
       "version_minor": 0
      },
      "text/plain": [
       "model.safetensors:   0%|          | 0.00/268M [00:00<?, ?B/s]"
      ]
     },
     "metadata": {},
     "output_type": "display_data"
    },
    {
     "name": "stderr",
     "output_type": "stream",
     "text": [
      "Some weights of DistilBertForSequenceClassification were not initialized from the model checkpoint at distilbert-base-uncased and are newly initialized: ['classifier.bias', 'classifier.weight', 'pre_classifier.bias', 'pre_classifier.weight']\n",
      "You should probably TRAIN this model on a down-stream task to be able to use it for predictions and inference.\n"
     ]
    }
   ],
   "source": [
    "tokenizer = AutoTokenizer.from_pretrained('distilbert-base-uncased')\n",
    "model = AutoModelForSequenceClassification.from_pretrained('distilbert-base-uncased', num_labels=6)"
   ]
  },
  {
   "cell_type": "code",
   "execution_count": 8,
   "metadata": {
    "id": "caclIGHJyB4i"
   },
   "outputs": [],
   "source": [
    "def tokenizer_fn(batch):\n",
    "    return tokenizer(batch['text'], padding= 'max_length', truncation= True)"
   ]
  },
  {
   "cell_type": "code",
   "execution_count": 9,
   "metadata": {
    "colab": {
     "base_uri": "https://localhost:8080/",
     "height": 113,
     "referenced_widgets": [
      "c098448394284a08b9ba06aec09bc638",
      "4c43f15cedbf44789f6ab0f08c5bd9ff",
      "0b9153bf648b4d95804465ed7f2a0c67",
      "bed0d4b7aac240d99c42f4bcbf8e4413",
      "0412ccdd42bd4058b672deb5a3c526a9",
      "df5217d325c64c23a7be56cb6da4a31c",
      "7d95f9119cb049818529dba22229043f",
      "8bace258f3e944b8bf4144a65150500c",
      "1780c044f27d49baaa96e54a191be802",
      "7d3eac0df669416ca4bb85266caf90f5",
      "ca568752fb854af7b8642bc4630647b9",
      "19f6b52b9d0548dd9eb98eb22b3d8552",
      "650909cfed104685a79011931668a9d4",
      "cd5366a02e0143e0b5fc0e67205e8808",
      "6f7df09019ef4adeb962015665276fc5",
      "7dc5147b711d4ed1bc6199731c6ff77a",
      "0491d0e2548e4e5caa317f373d005734",
      "4904f2300c9d418591d6999a19bc8e0b",
      "e421c0f873c8472bbaf3d85af5ec3334",
      "cf34240fbf7848a9b23d5d3123b3ba0f",
      "af7cfce786a64d3c8a0eb23384737d5e",
      "b64ce48c765a4456a13b276f1d35f0ac",
      "94430976a8bb45f281f188481cb55853",
      "712788987e9a4454ad82c54ab6ff374c",
      "219b4385710347aca665192271110d07",
      "71ace970b586466a9c39dc6cf2df8655",
      "9bce49e14ac746c08db1607456816883",
      "3ec2fc98a982445c8ba4af7f8911f2fa",
      "7aa76a881e19417993968e0c93566b7d",
      "ced5c7c2d3614bfa9fe93d7763dfbc36",
      "c0fec14b9f054ddf9e004c3df6b1645e",
      "89be76bdb4c944ea8681d70f9b653589",
      "29ffdeff9b0e42b8a1b03dd2a8a4a644"
     ]
    },
    "id": "K4j04leAyGGD",
    "outputId": "512de969-8b49-4421-c2a4-b8511209b312"
   },
   "outputs": [
    {
     "data": {
      "application/vnd.jupyter.widget-view+json": {
       "model_id": "c098448394284a08b9ba06aec09bc638",
       "version_major": 2,
       "version_minor": 0
      },
      "text/plain": [
       "Map:   0%|          | 0/16000 [00:00<?, ? examples/s]"
      ]
     },
     "metadata": {},
     "output_type": "display_data"
    },
    {
     "data": {
      "application/vnd.jupyter.widget-view+json": {
       "model_id": "19f6b52b9d0548dd9eb98eb22b3d8552",
       "version_major": 2,
       "version_minor": 0
      },
      "text/plain": [
       "Map:   0%|          | 0/2000 [00:00<?, ? examples/s]"
      ]
     },
     "metadata": {},
     "output_type": "display_data"
    },
    {
     "data": {
      "application/vnd.jupyter.widget-view+json": {
       "model_id": "94430976a8bb45f281f188481cb55853",
       "version_major": 2,
       "version_minor": 0
      },
      "text/plain": [
       "Map:   0%|          | 0/2000 [00:00<?, ? examples/s]"
      ]
     },
     "metadata": {},
     "output_type": "display_data"
    }
   ],
   "source": [
    "tokenized_dataset = dataset.map(tokenizer_fn, batched= True)"
   ]
  },
  {
   "cell_type": "code",
   "execution_count": 10,
   "metadata": {
    "colab": {
     "base_uri": "https://localhost:8080/"
    },
    "id": "vnUPsxctyH7D",
    "outputId": "4f1b2582-57c6-479f-b7ac-238579a737c1"
   },
   "outputs": [
    {
     "data": {
      "text/plain": [
       "DatasetDict({\n",
       "    train: Dataset({\n",
       "        features: ['text', 'label', 'input_ids', 'attention_mask'],\n",
       "        num_rows: 16000\n",
       "    })\n",
       "    validation: Dataset({\n",
       "        features: ['text', 'label', 'input_ids', 'attention_mask'],\n",
       "        num_rows: 2000\n",
       "    })\n",
       "    test: Dataset({\n",
       "        features: ['text', 'label', 'input_ids', 'attention_mask'],\n",
       "        num_rows: 2000\n",
       "    })\n",
       "})"
      ]
     },
     "execution_count": 10,
     "metadata": {},
     "output_type": "execute_result"
    }
   ],
   "source": [
    "tokenized_dataset"
   ]
  },
  {
   "cell_type": "code",
   "execution_count": 11,
   "metadata": {
    "id": "QFjVyINqyP9x"
   },
   "outputs": [],
   "source": [
    "label_to_id ={}\n",
    "id_to_label ={}\n",
    "labels = dataset['train'].features['label'].names\n",
    "for i in range(len(labels)):\n",
    "    label_to_id[labels[i]] = i\n",
    "for label in label_to_id:\n",
    "    id_to_label[label_to_id[label]] = label\n",
    "\n",
    "model.config.label2id = label_to_id\n",
    "model.config.id2label = id_to_label"
   ]
  },
  {
   "cell_type": "code",
   "execution_count": 21,
   "metadata": {
    "id": "S8y58D3OyQu_"
   },
   "outputs": [],
   "source": [
    "training_args = TrainingArguments(\n",
    "    output_dir = './results',\n",
    "    eval_strategy = 'epoch',\n",
    "    save_strategy = 'epoch',\n",
    "    logging_dir = './logs',\n",
    "    per_device_train_batch_size = 16,\n",
    "    per_device_eval_batch_size = 64,\n",
    "    num_train_epochs = 3,\n",
    "    fp16 = True,\n",
    "    logging_steps = 10,\n",
    "    load_best_model_at_end = True,\n",
    "    metric_for_best_model = 'accuracy'\n",
    ")"
   ]
  },
  {
   "cell_type": "code",
   "execution_count": 22,
   "metadata": {
    "id": "CNqdNl0oyTTq"
   },
   "outputs": [],
   "source": [
    "def compute_metrics(pred):\n",
    "    logits, labels = pred\n",
    "    preds = np.argmax(logits, axis=1)\n",
    "    return {\n",
    "        \"accuracy\" : accuracy_score(labels, preds),\n",
    "        \"f1\" : f1_score(labels, preds, average=\"weighted\")\n",
    "    }"
   ]
  },
  {
   "cell_type": "code",
   "execution_count": 23,
   "metadata": {
    "id": "IBf8nV6xyWA3"
   },
   "outputs": [],
   "source": [
    "trainer = Trainer(\n",
    "    model= model,\n",
    "    args= training_args,\n",
    "    train_dataset= tokenized_dataset['train'],\n",
    "    eval_dataset= tokenized_dataset['validation'],\n",
    "    compute_metrics= compute_metrics\n",
    ")"
   ]
  },
  {
   "cell_type": "code",
   "execution_count": 24,
   "metadata": {
    "colab": {
     "base_uri": "https://localhost:8080/",
     "height": 204
    },
    "id": "2h3ShydryZEW",
    "outputId": "bd9263fc-fe07-41e1-8032-417f38efb99a"
   },
   "outputs": [
    {
     "data": {
      "text/html": [
       "\n",
       "    <div>\n",
       "      \n",
       "      <progress value='3000' max='3000' style='width:300px; height:20px; vertical-align: middle;'></progress>\n",
       "      [3000/3000 11:13, Epoch 3/3]\n",
       "    </div>\n",
       "    <table border=\"1\" class=\"dataframe\">\n",
       "  <thead>\n",
       " <tr style=\"text-align: left;\">\n",
       "      <th>Epoch</th>\n",
       "      <th>Training Loss</th>\n",
       "      <th>Validation Loss</th>\n",
       "      <th>Accuracy</th>\n",
       "      <th>F1</th>\n",
       "    </tr>\n",
       "  </thead>\n",
       "  <tbody>\n",
       "    <tr>\n",
       "      <td>1</td>\n",
       "      <td>0.201800</td>\n",
       "      <td>0.200668</td>\n",
       "      <td>0.933500</td>\n",
       "      <td>0.933703</td>\n",
       "    </tr>\n",
       "    <tr>\n",
       "      <td>2</td>\n",
       "      <td>0.069200</td>\n",
       "      <td>0.189210</td>\n",
       "      <td>0.935500</td>\n",
       "      <td>0.934778</td>\n",
       "    </tr>\n",
       "    <tr>\n",
       "      <td>3</td>\n",
       "      <td>0.072100</td>\n",
       "      <td>0.227920</td>\n",
       "      <td>0.940000</td>\n",
       "      <td>0.939668</td>\n",
       "    </tr>\n",
       "  </tbody>\n",
       "</table><p>"
      ],
      "text/plain": [
       "<IPython.core.display.HTML object>"
      ]
     },
     "metadata": {},
     "output_type": "display_data"
    },
    {
     "data": {
      "text/plain": [
       "TrainOutput(global_step=3000, training_loss=0.10571134444574515, metrics={'train_runtime': 673.9599, 'train_samples_per_second': 71.221, 'train_steps_per_second': 4.451, 'total_flos': 6358888710144000.0, 'train_loss': 0.10571134444574515, 'epoch': 3.0})"
      ]
     },
     "execution_count": 24,
     "metadata": {},
     "output_type": "execute_result"
    }
   ],
   "source": [
    "trainer.train()"
   ]
  },
  {
   "cell_type": "code",
   "execution_count": 25,
   "metadata": {
    "colab": {
     "base_uri": "https://localhost:8080/",
     "height": 158
    },
    "id": "NnxCCl2gycds",
    "outputId": "26bf1db0-7cc4-4987-f917-37253ace28f2"
   },
   "outputs": [
    {
     "data": {
      "text/html": [
       "\n",
       "    <div>\n",
       "      \n",
       "      <progress value='32' max='32' style='width:300px; height:20px; vertical-align: middle;'></progress>\n",
       "      [32/32 00:07]\n",
       "    </div>\n",
       "    "
      ],
      "text/plain": [
       "<IPython.core.display.HTML object>"
      ]
     },
     "metadata": {},
     "output_type": "display_data"
    },
    {
     "data": {
      "text/plain": [
       "{'eval_loss': 0.2751978635787964,\n",
       " 'eval_accuracy': 0.9245,\n",
       " 'eval_f1': 0.9240171887398952,\n",
       " 'eval_runtime': 8.1983,\n",
       " 'eval_samples_per_second': 243.953,\n",
       " 'eval_steps_per_second': 3.903,\n",
       " 'epoch': 3.0}"
      ]
     },
     "execution_count": 25,
     "metadata": {},
     "output_type": "execute_result"
    }
   ],
   "source": [
    "trainer.evaluate(tokenized_dataset['test'])"
   ]
  },
  {
   "cell_type": "code",
   "execution_count": 26,
   "metadata": {
    "colab": {
     "base_uri": "https://localhost:8080/"
    },
    "id": "a5mTX5NQ59rR",
    "outputId": "dd3c698e-1fb7-4f5c-ae51-7167f48dddae"
   },
   "outputs": [
    {
     "data": {
      "text/plain": [
       "('emotion-classifier/tokenizer_config.json',\n",
       " 'emotion-classifier/special_tokens_map.json',\n",
       " 'emotion-classifier/vocab.txt',\n",
       " 'emotion-classifier/added_tokens.json',\n",
       " 'emotion-classifier/tokenizer.json')"
      ]
     },
     "execution_count": 26,
     "metadata": {},
     "output_type": "execute_result"
    }
   ],
   "source": [
    "trainer.save_model(\"emotion-classifier\")\n",
    "tokenizer.save_pretrained(\"emotion-classifier\")"
   ]
  },
  {
   "cell_type": "code",
   "execution_count": 28,
   "metadata": {
    "colab": {
     "base_uri": "https://localhost:8080/"
    },
    "id": "vPwY3i7b6nXl",
    "outputId": "d3b2b460-0d43-4195-d682-b2336a3500a8"
   },
   "outputs": [
    {
     "name": "stderr",
     "output_type": "stream",
     "text": [
      "Device set to use cuda:0\n"
     ]
    }
   ],
   "source": [
    "nlp = pipeline(\"text-classification\", model= \"emotion-classifier\", tokenizer= \"emotion-classifier\")"
   ]
  },
  {
   "cell_type": "code",
   "execution_count": 29,
   "metadata": {
    "colab": {
     "base_uri": "https://localhost:8080/"
    },
    "id": "dJovEiLf7B09",
    "outputId": "88cbd822-a60f-40d7-cb94-81a8bde867a9"
   },
   "outputs": [
    {
     "name": "stdout",
     "output_type": "stream",
     "text": [
      "[{'label': 'love', 'score': 0.9986947178840637}]\n"
     ]
    }
   ],
   "source": [
    "print(nlp(\"quite a lovely day\"))"
   ]
  },
  {
   "cell_type": "code",
   "execution_count": 30,
   "metadata": {
    "colab": {
     "base_uri": "https://localhost:8080/"
    },
    "id": "Hw_EWs7a7Fu3",
    "outputId": "c2411c8b-ffff-4202-f46a-427127a63e56"
   },
   "outputs": [
    {
     "name": "stdout",
     "output_type": "stream",
     "text": [
      "[{'label': 'joy', 'score': 0.9998626708984375}]\n"
     ]
    }
   ],
   "source": [
    "print(nlp(\"feeling excited for work\"))"
   ]
  },
  {
   "cell_type": "code",
   "execution_count": 31,
   "metadata": {
    "colab": {
     "base_uri": "https://localhost:8080/"
    },
    "id": "Ic94WfoM7Kp0",
    "outputId": "3d78dd26-0641-434b-f4f6-617e870f5c6c"
   },
   "outputs": [
    {
     "name": "stdout",
     "output_type": "stream",
     "text": [
      "[{'label': 'anger', 'score': 0.9055753350257874}]\n"
     ]
    }
   ],
   "source": [
    "print(nlp(\"why is it monday again?\"))"
   ]
  },
  {
   "cell_type": "code",
   "execution_count": 32,
   "metadata": {
    "colab": {
     "base_uri": "https://localhost:8080/"
    },
    "id": "k7uIGT1T7OwK",
    "outputId": "42fa0448-95e7-4586-c7b5-2ba3b216be44"
   },
   "outputs": [
    {
     "name": "stdout",
     "output_type": "stream",
     "text": [
      "[{'label': 'sadness', 'score': 0.9998230338096619}]\n"
     ]
    }
   ],
   "source": [
    "print(nlp(\"sorry for your loss\"))"
   ]
  },
  {
   "cell_type": "code",
   "execution_count": 42,
   "metadata": {
    "id": "aJFL1M5A-bQH"
   },
   "outputs": [],
   "source": []
  }
 ],
 "metadata": {
  "accelerator": "GPU",
  "colab": {
   "gpuType": "T4",
   "provenance": []
  },
  "kernelspec": {
   "display_name": "Python 3",
   "name": "python3"
  },
  "language_info": {
   "name": "python"
  }
 },
 "nbformat": 4,
 "nbformat_minor": 0
}
